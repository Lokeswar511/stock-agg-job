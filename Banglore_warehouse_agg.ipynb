{
 "cells": [
  {
   "cell_type": "code",
   "execution_count": 0,
   "metadata": {
    "application/vnd.databricks.v1+cell": {
     "cellMetadata": {
      "byteLimit": 2048000,
      "rowLimit": 10000
     },
     "inputWidgets": {},
     "nuid": "18c33ed8-d01a-4f1b-b3d1-4cd64b6d94d5",
     "showTitle": false,
     "title": ""
    }
   },
   "outputs": [],
   "source": [
    "from pyspark.sql.functions import *\n",
    "from pyspark.sql.types import *\n",
    "from datetime import date, timedelta, datetime"
   ]
  },
  {
   "cell_type": "code",
   "execution_count": 0,
   "metadata": {
    "application/vnd.databricks.v1+cell": {
     "cellMetadata": {
      "byteLimit": 2048000,
      "rowLimit": 10000
     },
     "inputWidgets": {},
     "nuid": "74828f66-113d-4952-b77b-1b8b1fefa1ef",
     "showTitle": false,
     "title": ""
    }
   },
   "outputs": [
    {
     "output_type": "execute_result",
     "data": {
      "text/plain": [
       "[MountInfo(mountPoint='/databricks-datasets', source='databricks-datasets', encryptionType=''),\n",
       " MountInfo(mountPoint='/mnt/gold', source='wasbs://gold@capitaldev.blob.core.windows.net/', encryptionType=''),\n",
       " MountInfo(mountPoint='/mnt/shiba-inshightl-ayer', source='wasbs://shiba-inshightl-ayer@capitaldev.blob.core.windows.net/', encryptionType=''),\n",
       " MountInfo(mountPoint='/mnt/gold-edwh', source='abfss://raw-edwh@capitaldev.dfs.core.windows.net/', encryptionType=''),\n",
       " MountInfo(mountPoint='/Volumes', source='UnityCatalogVolumes', encryptionType=''),\n",
       " MountInfo(mountPoint='/mnt/silver', source='wasbs://silver@capitaldev.blob.core.windows.net/', encryptionType=''),\n",
       " MountInfo(mountPoint='/mnt/silver-edwh', source='abfss://raw-edwh@capitaldev.dfs.core.windows.net/', encryptionType=''),\n",
       " MountInfo(mountPoint='/mnt/bronze1', source='wasbs://bronze@capitaldev.blob.core.windows.net/', encryptionType=''),\n",
       " MountInfo(mountPoint='/databricks/mlflow-tracking', source='databricks/mlflow-tracking', encryptionType=''),\n",
       " MountInfo(mountPoint='/mnt/raw-edwh', source='abfss://raw-edwh@capitaldev.dfs.core.windows.net/', encryptionType=''),\n",
       " MountInfo(mountPoint='/databricks-results', source='databricks-results', encryptionType=''),\n",
       " MountInfo(mountPoint='/mnt/shiba_first_level_transformation', source='wasbs://shibarawdata@capitaldev.blob.core.windows.net/', encryptionType=''),\n",
       " MountInfo(mountPoint='/databricks/mlflow-registry', source='databricks/mlflow-registry', encryptionType=''),\n",
       " MountInfo(mountPoint='/mnt/stock-agg-silver', source='abfss://stock-agg-silver@capitaldev.dfs.core.windows.net/', encryptionType=''),\n",
       " MountInfo(mountPoint='/mnt/shiba_transformation', source='wasbs://mysqlstaggingdata@capitaldev.blob.core.windows.net/', encryptionType=''),\n",
       " MountInfo(mountPoint='/Volume', source='DbfsReserved', encryptionType=''),\n",
       " MountInfo(mountPoint='/volumes', source='DbfsReserved', encryptionType=''),\n",
       " MountInfo(mountPoint='/', source='DatabricksRoot', encryptionType=''),\n",
       " MountInfo(mountPoint='/volume', source='DbfsReserved', encryptionType='')]"
      ]
     },
     "execution_count": 19,
     "metadata": {},
     "output_type": "execute_result"
    }
   ],
   "source": [
    "dbutils.fs.mounts()"
   ]
  },
  {
   "cell_type": "code",
   "execution_count": 0,
   "metadata": {
    "application/vnd.databricks.v1+cell": {
     "cellMetadata": {
      "byteLimit": 2048000,
      "rowLimit": 10000
     },
     "inputWidgets": {},
     "nuid": "a8598e0c-7ae1-4ca8-9bd5-3bf1cd4ae443",
     "showTitle": false,
     "title": ""
    }
   },
   "outputs": [
    {
     "output_type": "stream",
     "name": "stdout",
     "output_type": "stream",
     "text": [
      "Today is:  2023-10-24\n"
     ]
    }
   ],
   "source": [
    "# now = datetime.now()\n",
    "# print(\"now =\", now)\n",
    "# dt_string = now.strftime(\"%Y-%m-%d\")\n",
    "# print(dt_string)\n",
    "\n",
    "# Get today's date\n",
    "today = date.today()\n",
    "print(\"Today is: \", today)\n",
    " \n",
    "# Yesterday date\n",
    "# yesterday = today - timedelta(days = 1)\n",
    "# print(\"Yesterday was: \", yesterday)\n",
    "\n",
    "dt_string = today.strftime(\"%Y/%m/%d\")\n",
    "# print(dt_string)"
   ]
  },
  {
   "cell_type": "code",
   "execution_count": 0,
   "metadata": {
    "application/vnd.databricks.v1+cell": {
     "cellMetadata": {
      "byteLimit": 2048000,
      "rowLimit": 10000
     },
     "inputWidgets": {},
     "nuid": "caf4f418-bc25-4047-a3b9-9ea336c88f45",
     "showTitle": false,
     "title": ""
    }
   },
   "outputs": [],
   "source": []
  },
  {
   "cell_type": "code",
   "execution_count": 0,
   "metadata": {
    "application/vnd.databricks.v1+cell": {
     "cellMetadata": {
      "byteLimit": 2048000,
      "rowLimit": 10000
     },
     "inputWidgets": {},
     "nuid": "292645ce-bdb2-4a71-a438-24b88c1c4bc1",
     "showTitle": false,
     "title": ""
    }
   },
   "outputs": [],
   "source": [
    "folder = 'Banglore'\n",
    "a = f\"/mnt/stock-agg-silver/{folder}/{dt_string}\".format(folder,dt_string)"
   ]
  },
  {
   "cell_type": "code",
   "execution_count": 0,
   "metadata": {
    "application/vnd.databricks.v1+cell": {
     "cellMetadata": {
      "byteLimit": 2048000,
      "rowLimit": 10000
     },
     "inputWidgets": {},
     "nuid": "8fd7b2aa-76b8-46bb-ba06-d4752d224785",
     "showTitle": false,
     "title": ""
    }
   },
   "outputs": [],
   "source": [
    "schema_def = StructType([StructField('id', IntegerType(), True),\n",
    "                         StructField('StockDate', DateType(), True),\n",
    "                         StructField('WarehouseID', StringType(), True),\n",
    "                         StructField('ItemName', StringType(), True),\n",
    "                         StructField('OpeningStock', IntegerType(), True),\n",
    "                         StructField('Receipts', IntegerType(), True),\n",
    "                         StructField('Issues', IntegerType(), True),\n",
    "                         StructField('UnitValue', FloatType(), True)])\n",
    "\n",
    "Banglore_df = spark.read.schema(schema_def).option(\"header\", True).option('inferSchema', True).format('csv').load(a)"
   ]
  },
  {
   "cell_type": "code",
   "execution_count": 0,
   "metadata": {
    "application/vnd.databricks.v1+cell": {
     "cellMetadata": {
      "byteLimit": 2048000,
      "rowLimit": 10000
     },
     "inputWidgets": {},
     "nuid": "fad7595b-2bf8-4af4-866c-5fc19d8d2af4",
     "showTitle": false,
     "title": ""
    }
   },
   "outputs": [
    {
     "output_type": "stream",
     "name": "stdout",
     "output_type": "stream",
     "text": [
      "Total Records available : \n+--------+\n|count(1)|\n+--------+\n|      15|\n+--------+\n\nGlobal Stock Summary: \n+----------+----------------+---------+-------------+--------+------+-------------+-------------+\n| StockDate|        ItemName|TOTAL_REC|OPENING_STOCK|RECEIPTS|ISSUES|CLOSING_STOCK|CLOSING_VALUE|\n+----------+----------------+---------+-------------+--------+------+-------------+-------------+\n|2023-10-24|Labeling Machine|        2|           52|       7|     5|           54|       507.31|\n|2023-10-24|      Calculator|        2|           80|      70|    97|           53|       1444.9|\n|2023-10-24|        Scissors|        2|           15|      29|    83|          -39|      -841.68|\n|2023-10-24|        Notebook|        1|           48|      20|    77|           -9|       -63.27|\n|2023-10-24|    Sticky Notes|        1|            1|      32|    25|            8|        62.56|\n|2023-10-24|  Tape Dispenser|        2|           37|      73|   116|           -6|      -393.84|\n|2023-10-24|       Clipboard|        1|           96|       9|    48|           57|       991.23|\n|2023-10-24|      Pencil Box|        1|           49|      41|    86|            4|        35.36|\n|2023-10-24|Pencil Sharpener|        2|          148|      14|   158|            4|        57.66|\n|2023-10-24|         Folders|        1|            2|      24|    95|          -69|      -481.62|\n+----------+----------------+---------+-------------+--------+------+-------------+-------------+\n\n"
     ]
    }
   ],
   "source": [
    "# Create a temporary view\n",
    "Banglore_df.createOrReplaceTempView(\"GLOBAL_STOCK\")\n",
    "\n",
    "print(\"Total Records available : \")\n",
    "spark.sql(\"SELECT count(*) FROM GLOBAL_STOCK\").show()\n",
    "\n",
    "# Perform the aggregation using DataFrame API\n",
    "Banglore_stockSummary = Banglore_df.groupBy(\"StockDate\", \"ItemName\").agg(\n",
    "    count(\"*\").alias(\"TOTAL_REC\"),\n",
    "    sum(\"OpeningStock\").alias(\"OPENING_STOCK\"),\n",
    "    sum(\"Receipts\").alias(\"RECEIPTS\"),\n",
    "    sum(\"Issues\").alias(\"ISSUES\"),\n",
    "    sum((col(\"OpeningStock\") + col(\"Receipts\") - col(\"Issues\"))).alias(\"CLOSING_STOCK\"),\n",
    "    sum((col(\"OpeningStock\") + col(\"Receipts\") - col(\"Issues\")) * col(\"UnitValue\")).alias(\"CLOSING_VALUE\")\n",
    ")\n",
    "\n",
    "print(\"Global Stock Summary: \")\n",
    "daily_Banglore_agg = Banglore_stockSummary.withColumn('CLOSING_VALUE', round(col('CLOSING_VALUE'),2))\n",
    "\n",
    "daily_Banglore_agg.show()"
   ]
  },
  {
   "cell_type": "code",
   "execution_count": 0,
   "metadata": {
    "application/vnd.databricks.v1+cell": {
     "cellMetadata": {
      "byteLimit": 2048000,
      "rowLimit": 10000
     },
     "inputWidgets": {},
     "nuid": "b4749de5-a371-4012-8776-b3391883dac4",
     "showTitle": false,
     "title": ""
    }
   },
   "outputs": [
    {
     "output_type": "stream",
     "name": "stdout",
     "output_type": "stream",
     "text": [
      "2023-10\n24\n/mnt/stock-agg-gold/Banglore/2023-10/24/Banglore_data_.csv\n"
     ]
    }
   ],
   "source": [
    "#writing to Gold\n",
    "\n",
    "year_month = today.strftime(\"%Y-%m\")\n",
    "print(year_month)\n",
    "day = today.strftime(\"%d\")\n",
    "print(day)\n",
    "output_path = '/mnt/stock-agg-gold/Banglore/{0}/{1}/Banglore_data_.csv'.format(year_month, day)\n",
    "print(output_path)\n",
    "\n",
    "daily_Banglore_agg.write.mode('overwrite').format('csv').save(output_path)"
   ]
  }
 ],
 "metadata": {
  "application/vnd.databricks.v1+notebook": {
   "dashboards": [],
   "language": "python",
   "notebookMetadata": {
    "pythonIndentUnit": 4
   },
   "notebookName": "Banglore_warehouse_agg",
   "widgets": {}
  }
 },
 "nbformat": 4,
 "nbformat_minor": 0
}
