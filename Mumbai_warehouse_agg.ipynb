{
 "cells": [
  {
   "cell_type": "code",
   "execution_count": 0,
   "metadata": {
    "application/vnd.databricks.v1+cell": {
     "cellMetadata": {
      "byteLimit": 2048000,
      "rowLimit": 10000
     },
     "inputWidgets": {},
     "nuid": "78ecedb6-835a-442c-bdeb-f4f49aadee93",
     "showTitle": false,
     "title": ""
    }
   },
   "outputs": [],
   "source": [
    "from pyspark.sql.functions import *\n",
    "from pyspark.sql.types import *\n",
    "from datetime import date, timedelta, datetime"
   ]
  },
  {
   "cell_type": "code",
   "execution_count": 0,
   "metadata": {
    "application/vnd.databricks.v1+cell": {
     "cellMetadata": {
      "byteLimit": 2048000,
      "rowLimit": 10000
     },
     "inputWidgets": {},
     "nuid": "7c518707-fd6d-4d10-8f04-2d0f0079e412",
     "showTitle": false,
     "title": ""
    }
   },
   "outputs": [
    {
     "output_type": "stream",
     "name": "stdout",
     "output_type": "stream",
     "text": [
      "Today is:  2023-10-24\n2023/10/24\n"
     ]
    }
   ],
   "source": [
    "# now = datetime.now()\n",
    "# print(\"now =\", now)\n",
    "# dt_string = now.strftime(\"%Y-%m-%d\")\n",
    "# print(dt_string)\n",
    "\n",
    "# Get today's date\n",
    "today = date.today()\n",
    "print(\"Today is: \", today)\n",
    " \n",
    "# Yesterday date\n",
    "# yesterday = today - timedelta(days = 1)\n",
    "# print(\"Yesterday was: \", yesterday)\n",
    "\n",
    "dt_string = today.strftime(\"%Y/%m/%d\")\n",
    "print(dt_string)"
   ]
  },
  {
   "cell_type": "code",
   "execution_count": 0,
   "metadata": {
    "application/vnd.databricks.v1+cell": {
     "cellMetadata": {
      "byteLimit": 2048000,
      "rowLimit": 10000
     },
     "inputWidgets": {},
     "nuid": "7c7741ad-cf7d-44d0-a8ff-044d48ea820e",
     "showTitle": false,
     "title": ""
    }
   },
   "outputs": [
    {
     "output_type": "execute_result",
     "data": {
      "text/plain": [
       "[FileInfo(path='dbfs:/mnt/stock-agg-silver/Banglore/', name='Banglore/', size=0, modificationTime=1698123082000),\n",
       " FileInfo(path='dbfs:/mnt/stock-agg-silver/Hyderabad/', name='Hyderabad/', size=0, modificationTime=1698123078000),\n",
       " FileInfo(path='dbfs:/mnt/stock-agg-silver/Mumbai/', name='Mumbai/', size=0, modificationTime=1698123082000),\n",
       " FileInfo(path='dbfs:/mnt/stock-agg-silver/london/', name='london/', size=0, modificationTime=1698123079000)]"
      ]
     },
     "execution_count": 18,
     "metadata": {},
     "output_type": "execute_result"
    }
   ],
   "source": [
    "dbutils.fs.ls('/mnt/stock-agg-silver')"
   ]
  },
  {
   "cell_type": "code",
   "execution_count": 0,
   "metadata": {
    "application/vnd.databricks.v1+cell": {
     "cellMetadata": {
      "byteLimit": 2048000,
      "rowLimit": 10000
     },
     "inputWidgets": {},
     "nuid": "118fc1c8-78b1-40bb-830f-87049caed7bd",
     "showTitle": false,
     "title": ""
    }
   },
   "outputs": [],
   "source": [
    "folder = 'Mumbai'\n",
    "a = f\"dbfs:/mnt/stock-agg-silver/Mumbai/{dt_string}\".format(dt_string)"
   ]
  },
  {
   "cell_type": "code",
   "execution_count": 0,
   "metadata": {
    "application/vnd.databricks.v1+cell": {
     "cellMetadata": {
      "byteLimit": 2048000,
      "rowLimit": 10000
     },
     "inputWidgets": {},
     "nuid": "b1fb50b9-7e23-444d-a974-436283e30301",
     "showTitle": false,
     "title": ""
    }
   },
   "outputs": [
    {
     "output_type": "execute_result",
     "data": {
      "text/plain": [
       "'dbfs:/mnt/stock-agg-silver/Mumbai/2023/10/23'"
      ]
     },
     "execution_count": 21,
     "metadata": {},
     "output_type": "execute_result"
    }
   ],
   "source": [
    "a"
   ]
  },
  {
   "cell_type": "code",
   "execution_count": 0,
   "metadata": {
    "application/vnd.databricks.v1+cell": {
     "cellMetadata": {
      "byteLimit": 2048000,
      "rowLimit": 10000
     },
     "inputWidgets": {},
     "nuid": "819edea3-f89b-4045-be9f-de17b0aeb23f",
     "showTitle": false,
     "title": ""
    }
   },
   "outputs": [],
   "source": [
    "schema_def = StructType([StructField('id', IntegerType(), True),\n",
    "                         StructField('StockDate', DateType(), True),\n",
    "                         StructField('WarehouseID', StringType(), True),\n",
    "                         StructField('ItemName', StringType(), True),\n",
    "                         StructField('OpeningStock', IntegerType(), True),\n",
    "                         StructField('Receipts', IntegerType(), True),\n",
    "                         StructField('Issues', IntegerType(), True),\n",
    "                         StructField('UnitValue', FloatType(), True)])\n",
    "\n",
    "mumbai_df = spark.read.schema(schema_def).option(\"header\", True).option('inferSchema', True).format('csv').load(a)"
   ]
  },
  {
   "cell_type": "code",
   "execution_count": 0,
   "metadata": {
    "application/vnd.databricks.v1+cell": {
     "cellMetadata": {
      "byteLimit": 2048000,
      "rowLimit": 10000
     },
     "inputWidgets": {},
     "nuid": "85b0141d-780e-4368-9abb-7846629efa1c",
     "showTitle": false,
     "title": ""
    }
   },
   "outputs": [
    {
     "output_type": "stream",
     "name": "stdout",
     "output_type": "stream",
     "text": [
      "Total Records available : \n+--------+\n|count(1)|\n+--------+\n|      16|\n+--------+\n\nGlobal Stock Summary: \n+----------+----------------+---------+-------------+--------+------+-------------+-------------+\n| StockDate|        ItemName|TOTAL_REC|OPENING_STOCK|RECEIPTS|ISSUES|CLOSING_STOCK|CLOSING_VALUE|\n+----------+----------------+---------+-------------+--------+------+-------------+-------------+\n|2023-10-24|Labeling Machine|        2|          166|      24|    94|           96|      1160.13|\n|2023-10-24|      Calculator|        2|          124|      65|    10|          179|      1903.96|\n|2023-10-24|        Scissors|        2|           32|      47|   131|          -52|      -697.16|\n|2023-10-24|        Notebook|        1|           50|      35|    73|           12|        40.08|\n|2023-10-24|    Sticky Notes|        2|          140|      51|     3|          188|       1549.9|\n|2023-10-24|  Tape Dispenser|        2|          122|      81|   103|          100|       1543.0|\n|2023-10-24|       Clipboard|        1|           99|      30|    64|           65|       563.55|\n|2023-10-24|      Pencil Box|        1|           62|      30|     5|           87|        20.88|\n|2023-10-24|Pencil Sharpener|        2|          158|      71|    49|          180|      2201.04|\n|2023-10-24|         Folders|        1|           92|      36|    54|           74|      1107.04|\n+----------+----------------+---------+-------------+--------+------+-------------+-------------+\n\n"
     ]
    }
   ],
   "source": [
    "# Create a temporary view\n",
    "mumbai_df.createOrReplaceTempView(\"GLOBAL_STOCK\")\n",
    "\n",
    "print(\"Total Records available : \")\n",
    "spark.sql(\"SELECT count(*) FROM GLOBAL_STOCK\").show()\n",
    "\n",
    "# Perform the aggregation using DataFrame API\n",
    "mumbai_stockSummary = mumbai_df.groupBy(\"StockDate\", \"ItemName\").agg(\n",
    "    count(\"*\").alias(\"TOTAL_REC\"),\n",
    "    sum(\"OpeningStock\").alias(\"OPENING_STOCK\"),\n",
    "    sum(\"Receipts\").alias(\"RECEIPTS\"),\n",
    "    sum(\"Issues\").alias(\"ISSUES\"),\n",
    "    sum((col(\"OpeningStock\") + col(\"Receipts\") - col(\"Issues\"))).alias(\"CLOSING_STOCK\"),\n",
    "    sum((col(\"OpeningStock\") + col(\"Receipts\") - col(\"Issues\")) * col(\"UnitValue\")).alias(\"CLOSING_VALUE\")\n",
    ")\n",
    "\n",
    "print(\"Global Stock Summary: \")\n",
    "daily_mumbai_agg = mumbai_stockSummary.withColumn('CLOSING_VALUE', round(col('CLOSING_VALUE'),2))\n",
    "\n",
    "daily_mumbai_agg.show()"
   ]
  },
  {
   "cell_type": "code",
   "execution_count": 0,
   "metadata": {
    "application/vnd.databricks.v1+cell": {
     "cellMetadata": {
      "byteLimit": 2048000,
      "rowLimit": 10000
     },
     "inputWidgets": {},
     "nuid": "eecda8a3-a5aa-4223-8cda-5b6db963fb95",
     "showTitle": false,
     "title": ""
    }
   },
   "outputs": [
    {
     "output_type": "stream",
     "name": "stdout",
     "output_type": "stream",
     "text": [
      "Path exists: /dbfs/mnt/stock-agg-silver/Banglore/2023/10/23\n"
     ]
    }
   ],
   "source": [
    "# import os\n",
    "\n",
    "# # Define folder and date\n",
    "# folder = 'Banglore'\n",
    "# dt_string = '2023/10/23'\n",
    "\n",
    "# # Build the path\n",
    "# path = f\"/dbfs/mnt/stock-agg-silver/{folder}/{dt_string}\"\n",
    "\n",
    "# # Check if the path exists\n",
    "# if os.path.exists(path):\n",
    "#     print(f\"Path exists: {path}\")\n",
    "# else:\n",
    "#     print(f\"Path does not exist: {path}\")"
   ]
  },
  {
   "cell_type": "code",
   "execution_count": 0,
   "metadata": {
    "application/vnd.databricks.v1+cell": {
     "cellMetadata": {
      "byteLimit": 2048000,
      "rowLimit": 10000
     },
     "inputWidgets": {},
     "nuid": "5fc02b91-b315-4062-8cab-6b2ddd372df7",
     "showTitle": false,
     "title": ""
    }
   },
   "outputs": [
    {
     "output_type": "stream",
     "name": "stdout",
     "output_type": "stream",
     "text": [
      "2023-10\n24\n/mnt/stock-agg-gold/Mumbai/2023-10/24/Mumbai_data_.csv\n"
     ]
    }
   ],
   "source": [
    "year_month = today.strftime(\"%Y-%m\")\n",
    "print(year_month)\n",
    "day = today.strftime(\"%d\")\n",
    "print(day)\n",
    "output_path = '/mnt/stock-agg-gold/Mumbai/{0}/{1}/Mumbai_data_.csv'.format(year_month, day)\n",
    "print(output_path)\n",
    "\n",
    "daily_mumbai_agg.write.mode('overwrite').format('csv').save(output_path)"
   ]
  }
 ],
 "metadata": {
  "application/vnd.databricks.v1+notebook": {
   "dashboards": [],
   "language": "python",
   "notebookMetadata": {
    "pythonIndentUnit": 4
   },
   "notebookName": "Mumbai_warehouse_agg",
   "widgets": {}
  }
 },
 "nbformat": 4,
 "nbformat_minor": 0
}
