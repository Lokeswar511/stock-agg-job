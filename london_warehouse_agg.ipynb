{
 "cells": [
  {
   "cell_type": "code",
   "execution_count": 0,
   "metadata": {
    "application/vnd.databricks.v1+cell": {
     "cellMetadata": {
      "byteLimit": 2048000,
      "rowLimit": 10000
     },
     "inputWidgets": {},
     "nuid": "471035f9-cb34-45c0-99ac-ba813a702f40",
     "showTitle": false,
     "title": ""
    }
   },
   "outputs": [],
   "source": [
    "from pyspark.sql.functions import *\n",
    "from pyspark.sql.types import *\n",
    "import logging \n"
   ]
  },
  {
   "cell_type": "code",
   "execution_count": 0,
   "metadata": {
    "application/vnd.databricks.v1+cell": {
     "cellMetadata": {
      "byteLimit": 2048000,
      "rowLimit": 10000
     },
     "inputWidgets": {},
     "nuid": "d166d753-9839-4839-b89a-c42df818f399",
     "showTitle": false,
     "title": ""
    }
   },
   "outputs": [],
   "source": [
    "from datetime import date, timedelta, datetime"
   ]
  },
  {
   "cell_type": "code",
   "execution_count": 0,
   "metadata": {
    "application/vnd.databricks.v1+cell": {
     "cellMetadata": {
      "byteLimit": 2048000,
      "rowLimit": 10000
     },
     "inputWidgets": {},
     "nuid": "1c47f722-84bb-48d5-ae5c-2d26589414f7",
     "showTitle": false,
     "title": ""
    }
   },
   "outputs": [
    {
     "output_type": "display_data",
     "data": {
      "text/html": [
       "<div class = \"ansiout\">\n",
       "Provides utilities for leveraging secrets within notebooks.\n",
       "Databricks documentation for more info.\n",
       "    <h3></h3><b>get(scope: String, key: String): String</b> -> Gets the string representation of a secret value with scope and key<br /><b>getBytes(scope: String, key: String): byte[]</b> -> Gets the bytes representation of a secret value with scope and key<br /><b>list(scope: String): Seq</b> -> Lists secret metadata for secrets within a scope<br /><b>listScopes: Seq</b> -> Lists secret scopes<br /><br /></div>"
      ]
     },
     "metadata": {},
     "output_type": "display_data"
    }
   ],
   "source": [
    "dbutils.secrets.help()"
   ]
  },
  {
   "cell_type": "code",
   "execution_count": 0,
   "metadata": {
    "application/vnd.databricks.v1+cell": {
     "cellMetadata": {
      "byteLimit": 2048000,
      "rowLimit": 10000
     },
     "inputWidgets": {},
     "nuid": "91a86d02-bc69-4cb8-9b1c-60477aa67e7f",
     "showTitle": false,
     "title": ""
    }
   },
   "outputs": [
    {
     "output_type": "execute_result",
     "data": {
      "text/plain": [
       "[SecretMetadata(key='clientid'),\n",
       " SecretMetadata(key='clientsecret'),\n",
       " SecretMetadata(key='password1'),\n",
       " SecretMetadata(key='tenantid'),\n",
       " SecretMetadata(key='username1')]"
      ]
     },
     "execution_count": 89,
     "metadata": {},
     "output_type": "execute_result"
    }
   ],
   "source": [
    "#dbutils.secrets.listScopes()\n",
    "dbutils.secrets.list(scope= 'capitals_scope')"
   ]
  },
  {
   "cell_type": "code",
   "execution_count": 0,
   "metadata": {
    "application/vnd.databricks.v1+cell": {
     "cellMetadata": {
      "byteLimit": 2048000,
      "rowLimit": 10000
     },
     "inputWidgets": {},
     "nuid": "a176471c-1308-46ea-8eb6-4e9599d7644f",
     "showTitle": false,
     "title": ""
    }
   },
   "outputs": [],
   "source": [
    "application_id = dbutils.secrets.get(scope='capitals_scope', key='clientid')\n",
    "authenticationKey = dbutils.secrets.get(scope='capitals_scope', key='clientsecret')\n",
    "tenandId = dbutils.secrets.get(scope='capitals_scope', key='tenantid')"
   ]
  },
  {
   "cell_type": "code",
   "execution_count": 0,
   "metadata": {
    "application/vnd.databricks.v1+cell": {
     "cellMetadata": {
      "byteLimit": 2048000,
      "rowLimit": 10000
     },
     "inputWidgets": {},
     "nuid": "50088f83-bb81-4932-8453-effa509a41dd",
     "showTitle": false,
     "title": ""
    }
   },
   "outputs": [],
   "source": [
    "adlsAccountName = \"capitaldev\"\n",
    "adlsContainerName = \"stock-agg-silver\"\n",
    "mountPoint = \"/mnt/stock-agg-silver\""
   ]
  },
  {
   "cell_type": "code",
   "execution_count": 0,
   "metadata": {
    "application/vnd.databricks.v1+cell": {
     "cellMetadata": {
      "byteLimit": 2048000,
      "rowLimit": 10000
     },
     "inputWidgets": {},
     "nuid": "09870388-cb04-4d92-855d-f1a657fbf45c",
     "showTitle": false,
     "title": ""
    }
   },
   "outputs": [],
   "source": [
    "adlsAccountName = \"capitaldev\"\n",
    "adlsContainerName = \"stock-agg-gold\"\n",
    "mountPoint = \"/mnt/stock-agg-gold\""
   ]
  },
  {
   "cell_type": "code",
   "execution_count": 0,
   "metadata": {
    "application/vnd.databricks.v1+cell": {
     "cellMetadata": {
      "byteLimit": 2048000,
      "rowLimit": 10000
     },
     "inputWidgets": {},
     "nuid": "9e2cf86b-d25e-4968-98ec-f4005816a741",
     "showTitle": false,
     "title": ""
    }
   },
   "outputs": [],
   "source": [
    "endpoint = \"https://login.microsoftonline.com/\" + tenandId + \"/oauth2/token\"\n",
    "source = \"abfss://\" + adlsContainerName + \"@\" + adlsAccountName + \".dfs.core.windows.net/\" \n",
    "configs = {\"fs.azure.account.auth.type\": \"OAuth\",\n",
    "\"fs.azure.account.oauth.provider.type\": \"org.apache.hadoop.fs.azurebfs.oauth2.ClientCredsTokenProvider\",\n",
    "\"fs.azure.account.oauth2.client.id\": application_id,\n",
    "\"fs.azure.account.oauth2.client.secret\": authenticationKey,\n",
    "\"fs.azure.account.oauth2.client.endpoint\": endpoint}"
   ]
  },
  {
   "cell_type": "code",
   "execution_count": 0,
   "metadata": {
    "application/vnd.databricks.v1+cell": {
     "cellMetadata": {
      "byteLimit": 2048000,
      "rowLimit": 10000
     },
     "inputWidgets": {},
     "nuid": "842c1925-7407-4108-a720-d992542f6a3d",
     "showTitle": false,
     "title": ""
    }
   },
   "outputs": [],
   "source": [
    "if not any(mount.mountPoint == mountPoint for mount in dbutils.fs.mounts()):\n",
    "    dbutils.fs.mount(source=source,mount_point=mountPoint,extra_configs =configs)"
   ]
  },
  {
   "cell_type": "code",
   "execution_count": 0,
   "metadata": {
    "application/vnd.databricks.v1+cell": {
     "cellMetadata": {
      "byteLimit": 2048000,
      "rowLimit": 10000
     },
     "inputWidgets": {},
     "nuid": "14b498dd-8126-4a08-9564-94bce310d397",
     "showTitle": false,
     "title": ""
    }
   },
   "outputs": [
    {
     "output_type": "execute_result",
     "data": {
      "text/plain": [
       "[MountInfo(mountPoint='/databricks-datasets', source='databricks-datasets', encryptionType=''),\n",
       " MountInfo(mountPoint='/mnt/gold', source='wasbs://gold@capitaldev.blob.core.windows.net/', encryptionType=''),\n",
       " MountInfo(mountPoint='/mnt/shiba-inshightl-ayer', source='wasbs://shiba-inshightl-ayer@capitaldev.blob.core.windows.net/', encryptionType=''),\n",
       " MountInfo(mountPoint='/mnt/gold-edwh', source='abfss://raw-edwh@capitaldev.dfs.core.windows.net/', encryptionType=''),\n",
       " MountInfo(mountPoint='/Volumes', source='UnityCatalogVolumes', encryptionType=''),\n",
       " MountInfo(mountPoint='/mnt/silver', source='wasbs://silver@capitaldev.blob.core.windows.net/', encryptionType=''),\n",
       " MountInfo(mountPoint='/mnt/silver-edwh', source='abfss://raw-edwh@capitaldev.dfs.core.windows.net/', encryptionType=''),\n",
       " MountInfo(mountPoint='/mnt/bronze1', source='wasbs://bronze@capitaldev.blob.core.windows.net/', encryptionType=''),\n",
       " MountInfo(mountPoint='/databricks/mlflow-tracking', source='databricks/mlflow-tracking', encryptionType=''),\n",
       " MountInfo(mountPoint='/mnt/raw-edwh', source='abfss://raw-edwh@capitaldev.dfs.core.windows.net/', encryptionType=''),\n",
       " MountInfo(mountPoint='/databricks-results', source='databricks-results', encryptionType=''),\n",
       " MountInfo(mountPoint='/mnt/shiba_first_level_transformation', source='wasbs://shibarawdata@capitaldev.blob.core.windows.net/', encryptionType=''),\n",
       " MountInfo(mountPoint='/databricks/mlflow-registry', source='databricks/mlflow-registry', encryptionType=''),\n",
       " MountInfo(mountPoint='/mnt/stock-agg-gold', source='abfss://stock-agg-gold@capitaldev.dfs.core.windows.net/', encryptionType=''),\n",
       " MountInfo(mountPoint='/mnt/stock-agg-silver', source='abfss://stock-agg-silver@capitaldev.dfs.core.windows.net/', encryptionType=''),\n",
       " MountInfo(mountPoint='/mnt/shiba_transformation', source='wasbs://mysqlstaggingdata@capitaldev.blob.core.windows.net/', encryptionType=''),\n",
       " MountInfo(mountPoint='/Volume', source='DbfsReserved', encryptionType=''),\n",
       " MountInfo(mountPoint='/volumes', source='DbfsReserved', encryptionType=''),\n",
       " MountInfo(mountPoint='/', source='DatabricksRoot', encryptionType=''),\n",
       " MountInfo(mountPoint='/volume', source='DbfsReserved', encryptionType='')]"
      ]
     },
     "execution_count": 105,
     "metadata": {},
     "output_type": "execute_result"
    }
   ],
   "source": [
    "dbutils.fs.mounts()"
   ]
  },
  {
   "cell_type": "code",
   "execution_count": 0,
   "metadata": {
    "application/vnd.databricks.v1+cell": {
     "cellMetadata": {
      "byteLimit": 2048000,
      "rowLimit": 10000
     },
     "inputWidgets": {},
     "nuid": "02016cca-05e3-4ca8-a53f-25b103204278",
     "showTitle": false,
     "title": ""
    }
   },
   "outputs": [
    {
     "output_type": "stream",
     "name": "stdout",
     "output_type": "stream",
     "text": [
      "Today is:  2023-10-24\n2023/10/24\n"
     ]
    }
   ],
   "source": [
    "# now = datetime.now()\n",
    "# print(\"now =\", now)\n",
    "# dt_string = now.strftime(\"%Y-%m-%d\")\n",
    "# print(dt_string)\n",
    "\n",
    "# Get today's date\n",
    "today = date.today()\n",
    "print(\"Today is: \", today)\n",
    " \n",
    "# # Yesterday date\n",
    "# yesterday = today - timedelta(days = 1)\n",
    "# print(\"Yesterday was: \", yesterday)\n",
    "\n",
    "dt_string = today.strftime(\"%Y/%m/%d\")\n",
    "print(dt_string)"
   ]
  },
  {
   "cell_type": "code",
   "execution_count": 0,
   "metadata": {
    "application/vnd.databricks.v1+cell": {
     "cellMetadata": {
      "byteLimit": 2048000,
      "rowLimit": 10000
     },
     "inputWidgets": {},
     "nuid": "da8fce79-3393-414c-9155-7398c466d0d3",
     "showTitle": false,
     "title": ""
    }
   },
   "outputs": [],
   "source": [
    "folder = 'london'\n",
    "a = f\"/mnt/stock-agg-silver/{folder}/{dt_string}\".format(folder,dt_string)"
   ]
  },
  {
   "cell_type": "code",
   "execution_count": 0,
   "metadata": {
    "application/vnd.databricks.v1+cell": {
     "cellMetadata": {
      "byteLimit": 2048000,
      "rowLimit": 10000
     },
     "inputWidgets": {},
     "nuid": "870a30d9-2315-4ee7-a236-c782b86423d3",
     "showTitle": false,
     "title": ""
    }
   },
   "outputs": [],
   "source": [
    "schema_def = StructType([StructField('id', IntegerType(), True),\n",
    "                         StructField('StockDate', DateType(), True),\n",
    "                         StructField('WarehouseID', StringType(), True),\n",
    "                         StructField('ItemName', StringType(), True),\n",
    "                         StructField('OpeningStock', IntegerType(), True),\n",
    "                         StructField('Receipts', IntegerType(), True),\n",
    "                         StructField('Issues', IntegerType(), True),\n",
    "                         StructField('UnitValue', FloatType(), True)])"
   ]
  },
  {
   "cell_type": "code",
   "execution_count": 0,
   "metadata": {
    "application/vnd.databricks.v1+cell": {
     "cellMetadata": {
      "byteLimit": 2048000,
      "rowLimit": 10000
     },
     "inputWidgets": {},
     "nuid": "e3a727c1-cde4-4044-9ac8-6ce6becc78e6",
     "showTitle": false,
     "title": ""
    }
   },
   "outputs": [],
   "source": [
    "london_df = spark.read.schema(schema_def).option(\"header\", True).option('inferSchema', True).format('csv').load(a)"
   ]
  },
  {
   "cell_type": "code",
   "execution_count": 0,
   "metadata": {
    "application/vnd.databricks.v1+cell": {
     "cellMetadata": {
      "byteLimit": 2048000,
      "rowLimit": 10000
     },
     "inputWidgets": {},
     "nuid": "9eacd6b2-9328-4bae-b8d0-e74f6b3e99de",
     "showTitle": false,
     "title": ""
    }
   },
   "outputs": [
    {
     "output_type": "stream",
     "name": "stdout",
     "output_type": "stream",
     "text": [
      "root\n |-- id: integer (nullable = true)\n |-- StockDate: date (nullable = true)\n |-- WarehouseID: string (nullable = true)\n |-- ItemName: string (nullable = true)\n |-- OpeningStock: integer (nullable = true)\n |-- Receipts: integer (nullable = true)\n |-- Issues: integer (nullable = true)\n |-- UnitValue: float (nullable = true)\n\n"
     ]
    }
   ],
   "source": [
    "london_df.printSchema()"
   ]
  },
  {
   "cell_type": "code",
   "execution_count": 0,
   "metadata": {
    "application/vnd.databricks.v1+cell": {
     "cellMetadata": {
      "byteLimit": 2048000,
      "rowLimit": 10000
     },
     "inputWidgets": {},
     "nuid": "620c0e69-3e60-410a-b829-8e3ce9f88925",
     "showTitle": false,
     "title": ""
    }
   },
   "outputs": [
    {
     "output_type": "stream",
     "name": "stdout",
     "output_type": "stream",
     "text": [
      "+---+----------+-----------+----------------+------------+--------+------+---------+\n| id| StockDate|WarehouseID|        ItemName|OpeningStock|Receipts|Issues|UnitValue|\n+---+----------+-----------+----------------+------------+--------+------+---------+\n|  1|2023-10-24|     London|  Tape Dispenser|           0|      25|    42|     5.63|\n|  2|2023-10-24|     London|Pencil Sharpener|          40|      14|    98|     0.15|\n|  3|2023-10-24|     London|Labeling Machine|          84|      41|    49|    11.35|\n|  4|2023-10-24|     London|      Calculator|          51|      12|    44|     8.97|\n|  5|2023-10-24|     London|        Scissors|          26|      44|    78|    18.89|\n|  6|2023-10-24|     London|    Sticky Notes|          89|      36|    30|    16.53|\n|  7|2023-10-24|     London|        Notebook|           5|      44|    76|     3.75|\n|  8|2023-10-24|     London|       Clipboard|          44|      26|    84|     6.75|\n|  9|2023-10-24|     London|         Folders|          46|       0|    31|    17.06|\n| 10|2023-10-24|     London|      Pencil Box|          64|      37|    44|     7.62|\n| 11|2023-10-24|     London|  Tape Dispenser|          64|      32|    98|     0.77|\n| 12|2023-10-24|     London|Pencil Sharpener|          50|      20|    74|    15.65|\n| 13|2023-10-24|     London|Labeling Machine|          61|      14|    24|    13.61|\n| 14|2023-10-24|     London|      Calculator|          27|       8|    41|     4.98|\n| 15|2023-10-24|     London|        Scissors|          62|       7|    60|    14.69|\n| 16|2023-10-24|     London|    Sticky Notes|          94|      31|    87|     1.68|\n| 17|2023-10-24|     London|        Notebook|           2|      26|    64|     1.17|\n+---+----------+-----------+----------------+------------+--------+------+---------+\n\n"
     ]
    }
   ],
   "source": [
    "london_df.show()"
   ]
  },
  {
   "cell_type": "code",
   "execution_count": 0,
   "metadata": {
    "application/vnd.databricks.v1+cell": {
     "cellMetadata": {
      "byteLimit": 2048000,
      "rowLimit": 10000
     },
     "inputWidgets": {},
     "nuid": "3ed76d4a-ab08-4217-82c7-9e997bb36a40",
     "showTitle": false,
     "title": ""
    }
   },
   "outputs": [
    {
     "output_type": "stream",
     "name": "stdout",
     "output_type": "stream",
     "text": [
      "Total Records available : \n+--------+\n|count(1)|\n+--------+\n|      17|\n+--------+\n\nGlobal Stock Summary: \n+----------+----------------+---------+-------------+--------+------+-------------+-------------+\n| StockDate|        ItemName|TOTAL_REC|OPENING_STOCK|RECEIPTS|ISSUES|CLOSING_STOCK|CLOSING_VALUE|\n+----------+----------------+---------+-------------+--------+------+-------------+-------------+\n|2023-10-24|Labeling Machine|        2|          145|      55|    73|          127|      1556.71|\n|2023-10-24|      Calculator|        2|           78|      20|    85|           13|       140.55|\n|2023-10-24|        Scissors|        2|           88|      51|   138|            1|       -18.91|\n|2023-10-24|        Notebook|        2|            7|      70|   140|          -63|      -143.37|\n|2023-10-24|    Sticky Notes|        2|          183|      67|   117|          133|      1634.19|\n|2023-10-24|  Tape Dispenser|        2|           64|      57|   140|          -19|       -97.25|\n|2023-10-24|       Clipboard|        1|           44|      26|    84|          -14|        -94.5|\n|2023-10-24|      Pencil Box|        1|           64|      37|    44|           57|       434.34|\n|2023-10-24|Pencil Sharpener|        2|           90|      34|   172|          -48|        -69.2|\n|2023-10-24|         Folders|        1|           46|       0|    31|           15|        255.9|\n+----------+----------------+---------+-------------+--------+------+-------------+-------------+\n\n"
     ]
    }
   ],
   "source": [
    " # Create a temporary view\n",
    "london_df.createOrReplaceTempView(\"GLOBAL_STOCK\")\n",
    "\n",
    "print(\"Total Records available : \")\n",
    "spark.sql(\"SELECT count(*) FROM GLOBAL_STOCK\").show()\n",
    "\n",
    "# Perform the aggregation using DataFrame API\n",
    "london_stockSummary = london_df.groupBy(\"StockDate\", \"ItemName\").agg(\n",
    "    count(\"*\").alias(\"TOTAL_REC\"),\n",
    "    sum(\"OpeningStock\").alias(\"OPENING_STOCK\"),\n",
    "    sum(\"Receipts\").alias(\"RECEIPTS\"),\n",
    "    sum(\"Issues\").alias(\"ISSUES\"),\n",
    "    sum((col(\"OpeningStock\") + col(\"Receipts\") - col(\"Issues\"))).alias(\"CLOSING_STOCK\"),\n",
    "    sum((col(\"OpeningStock\") + col(\"Receipts\") - col(\"Issues\")) * col(\"UnitValue\")).alias(\"CLOSING_VALUE\")\n",
    ")\n",
    "\n",
    "print(\"Global Stock Summary: \")\n",
    "daily_london_agg = london_stockSummary.withColumn('CLOSING_VALUE', round(col('CLOSING_VALUE'),2))\n",
    "\n",
    "daily_london_agg.show()"
   ]
  },
  {
   "cell_type": "code",
   "execution_count": 0,
   "metadata": {
    "application/vnd.databricks.v1+cell": {
     "cellMetadata": {
      "byteLimit": 2048000,
      "rowLimit": 10000
     },
     "inputWidgets": {},
     "nuid": "9baa6fc6-7567-4364-8a7d-cd1e2e58f720",
     "showTitle": false,
     "title": ""
    }
   },
   "outputs": [
    {
     "output_type": "stream",
     "name": "stdout",
     "output_type": "stream",
     "text": [
      "2023-10\n24\n/mnt/stock-agg-gold/London/2023-10/24/london_data_.csv\n"
     ]
    }
   ],
   "source": [
    "#writing to Gold\n",
    "\n",
    "year_month = today.strftime(\"%Y-%m\")\n",
    "print(year_month)\n",
    "day = today.strftime(\"%d\")\n",
    "print(day)\n",
    "output_path = '/mnt/stock-agg-gold/London/{0}/{1}/london_data_.csv'.format(year_month, day)\n",
    "print(output_path)"
   ]
  },
  {
   "cell_type": "code",
   "execution_count": 0,
   "metadata": {
    "application/vnd.databricks.v1+cell": {
     "cellMetadata": {
      "byteLimit": 2048000,
      "rowLimit": 10000
     },
     "inputWidgets": {},
     "nuid": "cddd65ab-b4b5-4daf-8dcc-8855ee1cef93",
     "showTitle": false,
     "title": ""
    }
   },
   "outputs": [],
   "source": [
    "daily_london_agg.write.mode('overwrite').format('csv').save(output_path)"
   ]
  },
  {
   "cell_type": "code",
   "execution_count": 0,
   "metadata": {
    "application/vnd.databricks.v1+cell": {
     "cellMetadata": {
      "byteLimit": 2048000,
      "rowLimit": 10000
     },
     "inputWidgets": {},
     "nuid": "7d4cf5c8-c323-4405-b7c6-692ee227302a",
     "showTitle": false,
     "title": ""
    }
   },
   "outputs": [
    {
     "output_type": "stream",
     "name": "stdout",
     "output_type": "stream",
     "text": [
      "+--------+---+\n|    name|age|\n+--------+---+\n|lokeswar| 24|\n|  Harsha| 24|\n|     Ram| 28|\n+--------+---+\n\n"
     ]
    }
   ],
   "source": []
  }
 ],
 "metadata": {
  "application/vnd.databricks.v1+notebook": {
   "dashboards": [],
   "language": "python",
   "notebookMetadata": {
    "pythonIndentUnit": 4
   },
   "notebookName": "london_warehouse_agg",
   "widgets": {}
  }
 },
 "nbformat": 4,
 "nbformat_minor": 0
}
