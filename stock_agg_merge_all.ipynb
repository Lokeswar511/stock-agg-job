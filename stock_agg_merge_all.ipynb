{
 "cells": [
  {
   "cell_type": "code",
   "execution_count": 0,
   "metadata": {
    "application/vnd.databricks.v1+cell": {
     "cellMetadata": {
      "byteLimit": 2048000,
      "rowLimit": 10000
     },
     "inputWidgets": {},
     "nuid": "e6c60adf-54fe-4fd7-93d3-5006b18c7500",
     "showTitle": false,
     "title": ""
    }
   },
   "outputs": [],
   "source": [
    "from pyspark.sql.functions import *\n",
    "from pyspark.sql.types import *\n",
    "from datetime import date, timedelta, datetime"
   ]
  },
  {
   "cell_type": "code",
   "execution_count": 0,
   "metadata": {
    "application/vnd.databricks.v1+cell": {
     "cellMetadata": {
      "byteLimit": 2048000,
      "rowLimit": 10000
     },
     "inputWidgets": {},
     "nuid": "634eec81-fc67-4f98-8bc1-670f808a3f82",
     "showTitle": false,
     "title": ""
    }
   },
   "outputs": [],
   "source": [
    "london_notebook_path = './london_warehouse_agg'\n",
    "mumbai_notebook_path = './Mumbai_warehouse_agg'\n",
    "Banglore_notebook_path = './Banglore_warehouse_agg'\n",
    "Hyderabad_notebook_path = './Hyderabad_warehouse_agg'\n",
    "\n",
    "# dbutils.notebook.run(london_notebook_path, 180)"
   ]
  },
  {
   "cell_type": "code",
   "execution_count": 0,
   "metadata": {
    "application/vnd.databricks.v1+cell": {
     "cellMetadata": {
      "byteLimit": 2048000,
      "rowLimit": 10000
     },
     "inputWidgets": {},
     "nuid": "79fd2366-4613-430c-9d12-60fa9ddbfe80",
     "showTitle": false,
     "title": ""
    }
   },
   "outputs": [],
   "source": [
    "dbutils.notebook.run(london_notebook_path, 180)\n",
    "\n",
    "dbutils.notebook.run(mumbai_notebook_path, 180)\n",
    "\n",
    "dbutils.notebook.run(Banglore_notebook_path, 180)\n",
    "\n",
    "dbutils.notebook.run(Hyderabad_notebook_path, 180)"
   ]
  }
 ],
 "metadata": {
  "application/vnd.databricks.v1+notebook": {
   "dashboards": [],
   "language": "python",
   "notebookMetadata": {
    "pythonIndentUnit": 4
   },
   "notebookName": "stock_agg_merge_all",
   "widgets": {}
  }
 },
 "nbformat": 4,
 "nbformat_minor": 0
}
